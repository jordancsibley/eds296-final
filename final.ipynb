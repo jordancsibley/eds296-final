{
 "cells": [
  {
   "cell_type": "markdown",
   "id": "0e3cd440-03d8-4bb0-9079-aed3d929ee23",
   "metadata": {},
   "source": [
    "# EDS296 Final\n",
    "\n",
    "**Marina Kochuten, Jordan Sibley, and Josephine Cardelle**\n",
    "\n",
    "Spring 2025\n",
    "\n",
    "---\n",
    "\n",
    "## Introduction\n",
    "\n",
    "Probably some markdown here"
   ]
  },
  {
   "cell_type": "code",
   "execution_count": null,
   "id": "0ec966c7-8112-472c-8338-97ec750cd5dd",
   "metadata": {},
   "outputs": [],
   "source": [
    "# Import libraries\n",
    "import xarray as xr\n",
    "import matplotlib.pyplot as plt\n",
    "import numpy as np\n",
    "import cartopy.crs as ccrs\n",
    "import cartopy.feature as cfeature\n",
    "import intake"
   ]
  },
  {
   "cell_type": "markdown",
   "id": "61c75e8a-5bb3-4b78-ba2d-c682017a299d",
   "metadata": {},
   "source": [
    "## Metrics Definition"
   ]
  },
  {
   "cell_type": "code",
   "execution_count": null,
   "id": "35157c18-9231-4e6e-b5a2-4ecc731c90ba",
   "metadata": {},
   "outputs": [],
   "source": []
  },
  {
   "cell_type": "markdown",
   "id": "6c8ab217-99ff-49ee-ba11-aaa3bd24ab8f",
   "metadata": {},
   "source": [
    "## Data I/O"
   ]
  },
  {
   "cell_type": "code",
   "execution_count": null,
   "id": "a3f887bb-7b2f-47d8-9b87-0bdc4d2a5d10",
   "metadata": {},
   "outputs": [],
   "source": [
    "# Open the CMIP6 data catalog, store as a variable\n",
    "catalog = intake.open_esm_datastore('https://cmip6-pds.s3.amazonaws.com/pangeo-cmip6.json')\n",
    "\n",
    "\n",
    "##### Search through catalog and store results #####\n",
    "# CMCC Historic\n",
    "res_cmcc_hist = catalog.search(\n",
    "    activity_id = 'CMIP',\n",
    "    source_id = 'CMCC-ESM2',\n",
    "    experiment_id = 'historical',\n",
    "    member_id = 'r1i1p1f1',\n",
    "    table_id = 'Amon',\n",
    "    variable_id = 'tas'\n",
    ")\n",
    "\n",
    "# CMCC SSP585\n",
    "res_cmcc_fut = catalog.search(\n",
    "    activity_id = 'ScenarioMIP',\n",
    "    source_id = 'CMCC-ESM2',\n",
    "    experiment_id = 'ssp585',\n",
    "    member_id = 'r1i1p1f1',\n",
    "    table_id = 'Amon',\n",
    "    variable_id = 'tas'\n",
    ")\n",
    "\n",
    "# CanESM5 Historic\n",
    "res_can_hist = catalog.search(\n",
    "    activity_id = 'CMIP',\n",
    "    source_id = 'CanESM5',\n",
    "    experiment_id = 'historical',\n",
    "    member_id = 'r1i1p1f1',\n",
    "    table_id = 'Amon',\n",
    "    variable_id = 'tas'\n",
    ")\n",
    "\n",
    "# CanESM5 SSP585\n",
    "res_can_fut = catalog.search(\n",
    "    activity_id = 'ScenarioMIP',\n",
    "    source_id = 'CanESM5',\n",
    "    experiment_id = 'ssp585',\n",
    "    member_id = 'r1i1p1f1',\n",
    "    table_id = 'Amon',\n",
    "    variable_id = 'tas'\n",
    ")\n",
    "\n",
    "# Look at the results\n",
    "display(res_cmcc_hist.df)\n",
    "display(res_cmcc_fut.df)\n",
    "display(res_can_hist.df)\n",
    "display(res_can_fut.df)"
   ]
  },
  {
   "cell_type": "code",
   "execution_count": null,
   "id": "ff1e27e5-d02e-4c5e-a1b5-303e46e8c47d",
   "metadata": {},
   "outputs": [],
   "source": [
    "# Grab results and save as xarray objects\n",
    "cmcc_hist = xr.open_zarr(res_cmcc_hist.df.iloc[0]['zstore'], storage_options={'anon': True}, consolidated=True)\n",
    "cmcc_fut = xr.open_zarr(res_cmcc_fut.df.iloc[0]['zstore'], storage_options={'anon': True}, consolidated=True)\n",
    "can_hist = xr.open_zarr(res_can_hist.df.iloc[0]['zstore'], storage_options={'anon': True}, consolidated=True)\n",
    "can_fut = xr.open_zarr(res_can_fut.df.iloc[0]['zstore'], storage_options={'anon': True}, consolidated=True)"
   ]
  },
  {
   "cell_type": "code",
   "execution_count": null,
   "id": "df5ab802-8f28-48ea-a9d6-87b17d37336c",
   "metadata": {},
   "outputs": [],
   "source": [
    "# Concat historic and future data for cmcc model\n",
    "cmcc_data = xr.concat([cmcc_hist, cmcc_fut], dim=\"time\")\n",
    "\n",
    "# Concat historic and future data for can model\n",
    "can_data = xr.concat([can_hist, can_fut], dim=\"time\")"
   ]
  },
  {
   "cell_type": "markdown",
   "id": "200020ae-49bf-4253-8dc7-89a77c8d7fcf",
   "metadata": {},
   "source": [
    "## Metrics Computation"
   ]
  },
  {
   "cell_type": "code",
   "execution_count": null,
   "id": "25128359-208e-4862-8dd2-0a3bf8d2731a",
   "metadata": {},
   "outputs": [],
   "source": []
  },
  {
   "cell_type": "markdown",
   "id": "76b9cc82-9bcf-41b7-ab1a-711a9ce85835",
   "metadata": {},
   "source": [
    "## Visualizations"
   ]
  },
  {
   "cell_type": "code",
   "execution_count": null,
   "id": "bb14bcc9-c339-48ab-8ed8-d7b57582240d",
   "metadata": {},
   "outputs": [],
   "source": []
  },
  {
   "cell_type": "markdown",
   "id": "cc783a0b-48e2-4ad8-a2e8-369890000b0d",
   "metadata": {},
   "source": [
    "## Conclusions"
   ]
  },
  {
   "cell_type": "code",
   "execution_count": null,
   "id": "8cfc8746-703b-4658-a38c-1823a9af4089",
   "metadata": {},
   "outputs": [],
   "source": []
  }
 ],
 "metadata": {
  "kernelspec": {
   "display_name": "Anaconda 3 (EDS 296)",
   "language": "python",
   "name": "eds296-stevenson"
  },
  "language_info": {
   "codemirror_mode": {
    "name": "ipython",
    "version": 3
   },
   "file_extension": ".py",
   "mimetype": "text/x-python",
   "name": "python",
   "nbconvert_exporter": "python",
   "pygments_lexer": "ipython3",
   "version": "3.8.18"
  }
 },
 "nbformat": 4,
 "nbformat_minor": 5
}
