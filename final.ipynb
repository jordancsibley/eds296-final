{
 "cells": [
  {
   "cell_type": "markdown",
   "id": "0e3cd440-03d8-4bb0-9079-aed3d929ee23",
   "metadata": {
    "tags": []
   },
   "source": [
    "# EDS296 Final\n",
    "\n",
    "## Exploring Precipitation and Temperature Patterns in South East Asia \n",
    "\n",
    "**Marina Kochuten, Jordan Sibley, and Josephine Cardelle**\n",
    "\n",
    "Spring 2025\n",
    "\n",
    "---\n",
    "\n",
    "## Introduction\n",
    "![](photos/se-asia-map.png)\n",
    "*Source: [Britannica](https://www.britannica.com/place/Southeast-Asia)*\n",
    "\n",
    "\n",
    "The archipelagic region of Southeast Asia is a dynamic area with remarkable geographical, climatic, and ecological diversity. It includes countries such as Indonesia, Thailand, Vietnam, the Philippines, Malaysia, and Cambodia. These nations fall largely within tropical and subtropical climatic zones, characterized by distinct wet and dry seasons driven by the annual monsoon cycle. The wet season brings heavy rains and storms, while the dry season can bring prolonged heat and lower humidity. The region’s physical landscape features mountain ranges, broad river deltas, volcanic islands, and shallow seas—making it home to a [wide range of ecological niches and rich biodiversity](https://www.britannica.com/place/Southeast-Asia). Southeast Asia is just as diverse culturally, with deep historical ties to agriculture, trade, and coastal life.\n",
    "\n",
    "Southeast Asia is particularly vulnerable to extreme weather events, many of [which are being amplified by climate change](https://onlinelibrary.wiley.com/doi/full/10.1002/sd.2199). Typhoons are among the most destructive, and their increasing frequency and intensity have led to greater loss of life, widespread displacement, and major economic damage. Countries like the Philippines and Vietnam are often hit by multiple typhoons in a single year, leaving communities with little time to recover before the next storm hits.\n",
    "\n",
    "\n",
    "![](photos/extreme-weather.jpg)\n",
    "*Typhoon Ondoy, Philippines (2009). Source: [Wikimedia Commons](https://commons.wikimedia.org/wiki/File:Flooding_from_Typhoon_Ondoy_%28Ketsana%29,_Philippines_2009._Photo-_AusAID_%2810695830893%29.jpg)*\n",
    "\n",
    "In addition to typhoons, the region experiences seasonal flooding from monsoons, increased droughts during the dry season, and more frequent and intense heatwaves. Sea-level rise poses a growing threat to low-lying coastal and island communities, particularly in countries like Indonesia and Bangladesh, where entire communities may be forced to relocate in the coming decades. These climate stressors impact both human systems—such as agriculture, infrastructure, and public health and also natural systems, including coral reefs, mangrove forests, and freshwater ecosystems.\n",
    "\n",
    "Understanding past patterns in temperature and precipitation, and modeling how they are likely to shift in the future, is vital for helping this region adapt. Research and policy focused on warning systems, climate-resilient infrastructure, and ecosystem-based adaptation strategies [will be key to minimizing the impacts of climate change](https://www.imf.org/en/Publications/fandd/issues/2018/09/southeast-asia-climate-change-and-greenhouse-gas-emissions-prakash) on both people and nature in Southeast Asia.\n",
    "\n"
   ]
  },
  {
   "cell_type": "code",
   "execution_count": null,
   "id": "0ec966c7-8112-472c-8338-97ec750cd5dd",
   "metadata": {},
   "outputs": [],
   "source": [
    "# Import libraries\n",
    "import xarray as xr\n",
    "import matplotlib.pyplot as plt\n",
    "import numpy as np\n",
    "import cartopy.crs as ccrs\n",
    "import cartopy.feature as cfeature\n",
    "import intake"
   ]
  },
  {
   "cell_type": "markdown",
   "id": "61c75e8a-5bb3-4b78-ba2d-c682017a299d",
   "metadata": {},
   "source": [
    "## Metrics Definition"
   ]
  },
  {
   "cell_type": "markdown",
   "id": "8d6d515d-834a-4a4a-93b3-9256345dbe25",
   "metadata": {},
   "source": [
    "In order to measure how temperature and precipitation contributes to climate change impacts in the South East Asia region, a series of summary statistics will be derived from climate model data. The change in mean air temperature between a historical baseline period (1975–2025) and a future projection period (2026–2075) will be calculated and mapped. This analysis will be conducted under the [Shared Socioeconomic Pathway 5-8.5](https://www.dkrz.de/en/communication/climate-simulations/cmip6-en/the-ssp-scenarios). This is a  high-emissions scenario that assumes continued heavy reliance on fossil fuels and limited climate mitigation efforts.\n",
    "\n",
    "The same temporal average difference analysis will be applied to precipitation data, allowing for the spatial visualization of shifts in rainfall patterns across the region. As a way to compare different future predictions, two different climate models are utilized: \n",
    "\n",
    "- [CMCC-ESM2](https://www.cmcc.it/models/cmcc-esm-earth-system-model): Centro Euro-Mediterraneo sui Cambiamenti Climatici Earth Model Systems 2\n",
    "- [CanESM5](https://gmd.copernicus.org/articles/12/4823/2019/): Canadian Earth Model System Model version 5 "
   ]
  },
  {
   "cell_type": "markdown",
   "id": "6c8ab217-99ff-49ee-ba11-aaa3bd24ab8f",
   "metadata": {},
   "source": [
    "## Data I/O"
   ]
  },
  {
   "cell_type": "code",
   "execution_count": null,
   "id": "a3f887bb-7b2f-47d8-9b87-0bdc4d2a5d10",
   "metadata": {},
   "outputs": [],
   "source": [
    "# Open the CMIP6 data catalog, store as a variable\n",
    "catalog = intake.open_esm_datastore('https://cmip6-pds.s3.amazonaws.com/pangeo-cmip6.json')\n",
    "\n",
    "\n",
    "##### Search through catalog and store results #####\n",
    "# CMCC Historic\n",
    "res_cmcc_hist = catalog.search(\n",
    "    activity_id = 'CMIP',\n",
    "    source_id = 'CMCC-ESM2',\n",
    "    experiment_id = 'historical',\n",
    "    member_id = 'r1i1p1f1',\n",
    "    table_id = 'Amon',\n",
    "    variable_id = 'tas'\n",
    ")\n",
    "\n",
    "# CMCC SSP585\n",
    "res_cmcc_fut = catalog.search(\n",
    "    activity_id = 'ScenarioMIP',\n",
    "    source_id = 'CMCC-ESM2',\n",
    "    experiment_id = 'ssp585',\n",
    "    member_id = 'r1i1p1f1',\n",
    "    table_id = 'Amon',\n",
    "    variable_id = 'tas'\n",
    ")\n",
    "\n",
    "# CanESM5 Historic\n",
    "res_can_hist = catalog.search(\n",
    "    activity_id = 'CMIP',\n",
    "    source_id = 'CanESM5',\n",
    "    experiment_id = 'historical',\n",
    "    member_id = 'r1i1p1f1',\n",
    "    table_id = 'Amon',\n",
    "    variable_id = 'tas'\n",
    ")\n",
    "\n",
    "# CanESM5 SSP585\n",
    "res_can_fut = catalog.search(\n",
    "    activity_id = 'ScenarioMIP',\n",
    "    source_id = 'CanESM5',\n",
    "    experiment_id = 'ssp585',\n",
    "    member_id = 'r1i1p1f1',\n",
    "    table_id = 'Amon',\n",
    "    variable_id = 'tas'\n",
    ")\n",
    "\n",
    "# Look at the results\n",
    "display(res_cmcc_hist.df)\n",
    "display(res_cmcc_fut.df)\n",
    "display(res_can_hist.df)\n",
    "display(res_can_fut.df)"
   ]
  },
  {
   "cell_type": "code",
   "execution_count": null,
   "id": "ff1e27e5-d02e-4c5e-a1b5-303e46e8c47d",
   "metadata": {},
   "outputs": [],
   "source": [
    "# Grab results and save as xarray objects\n",
    "cmcc_hist = xr.open_zarr(res_cmcc_hist.df.iloc[0]['zstore'], storage_options={'anon': True}, consolidated=True)\n",
    "cmcc_fut = xr.open_zarr(res_cmcc_fut.df.iloc[0]['zstore'], storage_options={'anon': True}, consolidated=True)\n",
    "can_hist = xr.open_zarr(res_can_hist.df.iloc[0]['zstore'], storage_options={'anon': True}, consolidated=True)\n",
    "can_fut = xr.open_zarr(res_can_fut.df.iloc[0]['zstore'], storage_options={'anon': True}, consolidated=True)"
   ]
  },
  {
   "cell_type": "code",
   "execution_count": null,
   "id": "df5ab802-8f28-48ea-a9d6-87b17d37336c",
   "metadata": {},
   "outputs": [],
   "source": [
    "# Concat historic and future data for cmcc model\n",
    "cmcc_data = xr.concat([cmcc_hist, cmcc_fut], dim=\"time\")\n",
    "\n",
    "# Concat historic and future data for can model\n",
    "can_data = xr.concat([can_hist, can_fut], dim=\"time\")"
   ]
  },
  {
   "cell_type": "markdown",
   "id": "200020ae-49bf-4253-8dc7-89a77c8d7fcf",
   "metadata": {},
   "source": [
    "## Metrics Computation"
   ]
  },
  {
   "cell_type": "code",
   "execution_count": null,
   "id": "25128359-208e-4862-8dd2-0a3bf8d2731a",
   "metadata": {},
   "outputs": [],
   "source": []
  },
  {
   "cell_type": "markdown",
   "id": "76b9cc82-9bcf-41b7-ab1a-711a9ce85835",
   "metadata": {},
   "source": [
    "## Visualizations"
   ]
  },
  {
   "cell_type": "code",
   "execution_count": null,
   "id": "bb14bcc9-c339-48ab-8ed8-d7b57582240d",
   "metadata": {},
   "outputs": [],
   "source": []
  },
  {
   "cell_type": "markdown",
   "id": "cc783a0b-48e2-4ad8-a2e8-369890000b0d",
   "metadata": {},
   "source": [
    "## Conclusions"
   ]
  },
  {
   "cell_type": "code",
   "execution_count": null,
   "id": "8cfc8746-703b-4658-a38c-1823a9af4089",
   "metadata": {},
   "outputs": [],
   "source": []
  }
 ],
 "metadata": {
  "kernelspec": {
   "display_name": "Anaconda 3 (EDS 296)",
   "language": "python",
   "name": "eds296-stevenson"
  },
  "language_info": {
   "codemirror_mode": {
    "name": "ipython",
    "version": 3
   },
   "file_extension": ".py",
   "mimetype": "text/x-python",
   "name": "python",
   "nbconvert_exporter": "python",
   "pygments_lexer": "ipython3",
   "version": "3.8.18"
  }
 },
 "nbformat": 4,
 "nbformat_minor": 5
}
